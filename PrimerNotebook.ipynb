{
  "nbformat": 4,
  "nbformat_minor": 0,
  "metadata": {
    "colab": {
      "provenance": [],
      "authorship_tag": "ABX9TyMcX6WmZPhb97qIpzQP9/YS",
      "include_colab_link": true
    },
    "kernelspec": {
      "name": "python3",
      "display_name": "Python 3"
    },
    "language_info": {
      "name": "python"
    }
  },
  "cells": [
    {
      "cell_type": "markdown",
      "metadata": {
        "id": "view-in-github",
        "colab_type": "text"
      },
      "source": [
        "<a href=\"https://colab.research.google.com/github/ctorrescarrera2017-cloud/PrimerNotebook/blob/main/PrimerNotebook.ipynb\" target=\"_parent\"><img src=\"https://colab.research.google.com/assets/colab-badge.svg\" alt=\"Open In Colab\"/></a>"
      ]
    },
    {
      "cell_type": "markdown",
      "source": [
        "#**PRIMER NOTEBOOK**\n"
      ],
      "metadata": {
        "id": "f_Lz3YhI22on"
      }
    },
    {
      "cell_type": "markdown",
      "source": [
        "##**Este es mi primer notebook y voy a hacer lo siguiente**"
      ],
      "metadata": {
        "id": "CkMfjDKF3LCa"
      }
    },
    {
      "cell_type": "markdown",
      "source": [
        "Una lista **enumerada**:\n",
        "1. Primero\n",
        "2. Segundo\n",
        "3. Tercero"
      ],
      "metadata": {
        "id": "rsb2iSHz3Y8h"
      }
    },
    {
      "cell_type": "markdown",
      "source": [
        "Una lista **por puntos**:\n",
        "* Primero\n",
        "* Segundo\n",
        "* Tercero"
      ],
      "metadata": {
        "id": "B3wP6q6g3uD0"
      }
    },
    {
      "cell_type": "markdown",
      "source": [
        "Mi primero código:"
      ],
      "metadata": {
        "id": "I1pUQdjl37LR"
      }
    },
    {
      "cell_type": "code",
      "source": [
        "mi_primera_frase = \"Hello world\""
      ],
      "metadata": {
        "id": "ZFJU6NXw4qWm"
      },
      "execution_count": null,
      "outputs": []
    },
    {
      "cell_type": "code",
      "source": [
        "# Al ejecutar no sale nada porque tengo que poner print()\n",
        "# Si ponemos una almohadilla antes, podemos apuntarnos notas como esta sin que afecte a nada\n",
        "\n",
        "print(mi_primera_frase)"
      ],
      "metadata": {
        "colab": {
          "base_uri": "https://localhost:8080/"
        },
        "id": "HUzSw9UU414P",
        "outputId": "332fa638-61ab-4211-a663-97162397a48a"
      },
      "execution_count": null,
      "outputs": [
        {
          "output_type": "stream",
          "name": "stdout",
          "text": [
            "Hello world\n"
          ]
        }
      ]
    },
    {
      "cell_type": "code",
      "source": [
        "# A ver si lo entendemos mejor\n",
        "numeros = [10,20,30,40,50]"
      ],
      "metadata": {
        "id": "lWHhunoD5CRx"
      },
      "execution_count": null,
      "outputs": []
    },
    {
      "cell_type": "code",
      "source": [
        "media = sum(numeros) /len (numeros)"
      ],
      "metadata": {
        "id": "N_aRrVrs6Hgx"
      },
      "execution_count": null,
      "outputs": []
    },
    {
      "cell_type": "code",
      "source": [
        "print(media)"
      ],
      "metadata": {
        "colab": {
          "base_uri": "https://localhost:8080/"
        },
        "id": "8b3AFrzM6QgO",
        "outputId": "27b8f69b-0dd3-401f-fa20-9f66f58fa308"
      },
      "execution_count": null,
      "outputs": [
        {
          "output_type": "stream",
          "name": "stdout",
          "text": [
            "30.0\n"
          ]
        }
      ]
    },
    {
      "cell_type": "markdown",
      "source": [
        "##**Finalizamos con una bonita imagen**"
      ],
      "metadata": {
        "id": "twjRMf3e63x9"
      }
    }
  ]
}